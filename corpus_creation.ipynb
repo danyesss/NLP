{
  "nbformat": 4,
  "nbformat_minor": 0,
  "metadata": {
    "kernelspec": {
      "name": "python3",
      "display_name": "Python 3"
    },
    "colab": {
      "name": "corpus_creation.ipynb",
      "provenance": [],
      "collapsed_sections": [],
      "include_colab_link": true
    },
    "accelerator": "GPU",
    "widgets": {
      "application/vnd.jupyter.widget-state+json": {
        "0530392ccc604af7a78d71dafe6a251a": {
          "model_module": "@jupyter-widgets/controls",
          "model_name": "HBoxModel",
          "model_module_version": "1.5.0",
          "state": {
            "_dom_classes": [],
            "_model_module": "@jupyter-widgets/controls",
            "_model_module_version": "1.5.0",
            "_model_name": "HBoxModel",
            "_view_count": null,
            "_view_module": "@jupyter-widgets/controls",
            "_view_module_version": "1.5.0",
            "_view_name": "HBoxView",
            "box_style": "",
            "children": [
              "IPY_MODEL_03b0efa4d2044e139081a7f6b7adee16",
              "IPY_MODEL_ca37501ffb9b491c9a69185c8432164c"
            ],
            "layout": "IPY_MODEL_4bd5c7df2eec430db36e4b916f4f55f4"
          }
        },
        "03b0efa4d2044e139081a7f6b7adee16": {
          "model_module": "@jupyter-widgets/controls",
          "model_name": "FloatProgressModel",
          "model_module_version": "1.5.0",
          "state": {
            "_dom_classes": [],
            "_model_module": "@jupyter-widgets/controls",
            "_model_module_version": "1.5.0",
            "_model_name": "FloatProgressModel",
            "_view_count": null,
            "_view_module": "@jupyter-widgets/controls",
            "_view_module_version": "1.5.0",
            "_view_name": "ProgressView",
            "bar_style": "success",
            "description": "100%",
            "description_tooltip": null,
            "layout": "IPY_MODEL_caae262d19bb46ed9b2763c02410afd6",
            "max": 1,
            "min": 0,
            "orientation": "horizontal",
            "style": "IPY_MODEL_20540ec9afaf4ce5b117848a9a7c865c",
            "value": 1
          }
        },
        "ca37501ffb9b491c9a69185c8432164c": {
          "model_module": "@jupyter-widgets/controls",
          "model_name": "HTMLModel",
          "model_module_version": "1.5.0",
          "state": {
            "_dom_classes": [],
            "_model_module": "@jupyter-widgets/controls",
            "_model_module_version": "1.5.0",
            "_model_name": "HTMLModel",
            "_view_count": null,
            "_view_module": "@jupyter-widgets/controls",
            "_view_module_version": "1.5.0",
            "_view_name": "HTMLView",
            "description": "",
            "description_tooltip": null,
            "layout": "IPY_MODEL_85ed0e54c1e24dbc96ea1fae5b44724f",
            "placeholder": "​",
            "style": "IPY_MODEL_af0ff4c35a6041ffbe568c17ea75fedd",
            "value": " 1/1 [01:04&lt;00:00, 64.33s/it]"
          }
        },
        "4bd5c7df2eec430db36e4b916f4f55f4": {
          "model_module": "@jupyter-widgets/base",
          "model_name": "LayoutModel",
          "model_module_version": "1.2.0",
          "state": {
            "_model_module": "@jupyter-widgets/base",
            "_model_module_version": "1.2.0",
            "_model_name": "LayoutModel",
            "_view_count": null,
            "_view_module": "@jupyter-widgets/base",
            "_view_module_version": "1.2.0",
            "_view_name": "LayoutView",
            "align_content": null,
            "align_items": null,
            "align_self": null,
            "border": null,
            "bottom": null,
            "display": null,
            "flex": null,
            "flex_flow": null,
            "grid_area": null,
            "grid_auto_columns": null,
            "grid_auto_flow": null,
            "grid_auto_rows": null,
            "grid_column": null,
            "grid_gap": null,
            "grid_row": null,
            "grid_template_areas": null,
            "grid_template_columns": null,
            "grid_template_rows": null,
            "height": null,
            "justify_content": null,
            "justify_items": null,
            "left": null,
            "margin": null,
            "max_height": null,
            "max_width": null,
            "min_height": null,
            "min_width": null,
            "object_fit": null,
            "object_position": null,
            "order": null,
            "overflow": null,
            "overflow_x": null,
            "overflow_y": null,
            "padding": null,
            "right": null,
            "top": null,
            "visibility": null,
            "width": null
          }
        },
        "caae262d19bb46ed9b2763c02410afd6": {
          "model_module": "@jupyter-widgets/base",
          "model_name": "LayoutModel",
          "model_module_version": "1.2.0",
          "state": {
            "_model_module": "@jupyter-widgets/base",
            "_model_module_version": "1.2.0",
            "_model_name": "LayoutModel",
            "_view_count": null,
            "_view_module": "@jupyter-widgets/base",
            "_view_module_version": "1.2.0",
            "_view_name": "LayoutView",
            "align_content": null,
            "align_items": null,
            "align_self": null,
            "border": null,
            "bottom": null,
            "display": null,
            "flex": null,
            "flex_flow": null,
            "grid_area": null,
            "grid_auto_columns": null,
            "grid_auto_flow": null,
            "grid_auto_rows": null,
            "grid_column": null,
            "grid_gap": null,
            "grid_row": null,
            "grid_template_areas": null,
            "grid_template_columns": null,
            "grid_template_rows": null,
            "height": null,
            "justify_content": null,
            "justify_items": null,
            "left": null,
            "margin": null,
            "max_height": null,
            "max_width": null,
            "min_height": null,
            "min_width": null,
            "object_fit": null,
            "object_position": null,
            "order": null,
            "overflow": null,
            "overflow_x": null,
            "overflow_y": null,
            "padding": null,
            "right": null,
            "top": null,
            "visibility": null,
            "width": null
          }
        },
        "20540ec9afaf4ce5b117848a9a7c865c": {
          "model_module": "@jupyter-widgets/controls",
          "model_name": "ProgressStyleModel",
          "model_module_version": "1.5.0",
          "state": {
            "_model_module": "@jupyter-widgets/controls",
            "_model_module_version": "1.5.0",
            "_model_name": "ProgressStyleModel",
            "_view_count": null,
            "_view_module": "@jupyter-widgets/base",
            "_view_module_version": "1.2.0",
            "_view_name": "StyleView",
            "bar_color": null,
            "description_width": "initial"
          }
        },
        "85ed0e54c1e24dbc96ea1fae5b44724f": {
          "model_module": "@jupyter-widgets/base",
          "model_name": "LayoutModel",
          "model_module_version": "1.2.0",
          "state": {
            "_model_module": "@jupyter-widgets/base",
            "_model_module_version": "1.2.0",
            "_model_name": "LayoutModel",
            "_view_count": null,
            "_view_module": "@jupyter-widgets/base",
            "_view_module_version": "1.2.0",
            "_view_name": "LayoutView",
            "align_content": null,
            "align_items": null,
            "align_self": null,
            "border": null,
            "bottom": null,
            "display": null,
            "flex": null,
            "flex_flow": null,
            "grid_area": null,
            "grid_auto_columns": null,
            "grid_auto_flow": null,
            "grid_auto_rows": null,
            "grid_column": null,
            "grid_gap": null,
            "grid_row": null,
            "grid_template_areas": null,
            "grid_template_columns": null,
            "grid_template_rows": null,
            "height": null,
            "justify_content": null,
            "justify_items": null,
            "left": null,
            "margin": null,
            "max_height": null,
            "max_width": null,
            "min_height": null,
            "min_width": null,
            "object_fit": null,
            "object_position": null,
            "order": null,
            "overflow": null,
            "overflow_x": null,
            "overflow_y": null,
            "padding": null,
            "right": null,
            "top": null,
            "visibility": null,
            "width": null
          }
        },
        "af0ff4c35a6041ffbe568c17ea75fedd": {
          "model_module": "@jupyter-widgets/controls",
          "model_name": "DescriptionStyleModel",
          "model_module_version": "1.5.0",
          "state": {
            "_model_module": "@jupyter-widgets/controls",
            "_model_module_version": "1.5.0",
            "_model_name": "DescriptionStyleModel",
            "_view_count": null,
            "_view_module": "@jupyter-widgets/base",
            "_view_module_version": "1.2.0",
            "_view_name": "StyleView",
            "description_width": ""
          }
        },
        "ec6eec59cd6f4c618ffc48f687cd1897": {
          "model_module": "@jupyter-widgets/controls",
          "model_name": "HBoxModel",
          "model_module_version": "1.5.0",
          "state": {
            "_dom_classes": [],
            "_model_module": "@jupyter-widgets/controls",
            "_model_module_version": "1.5.0",
            "_model_name": "HBoxModel",
            "_view_count": null,
            "_view_module": "@jupyter-widgets/controls",
            "_view_module_version": "1.5.0",
            "_view_name": "HBoxView",
            "box_style": "",
            "children": [
              "IPY_MODEL_039a53de48814418b424f30bd7ef7804",
              "IPY_MODEL_62d3161d43d74b5cbd7613496c783c05"
            ],
            "layout": "IPY_MODEL_c9a853f69b6d489b896da77c6a7081cd"
          }
        },
        "039a53de48814418b424f30bd7ef7804": {
          "model_module": "@jupyter-widgets/controls",
          "model_name": "FloatProgressModel",
          "model_module_version": "1.5.0",
          "state": {
            "_dom_classes": [],
            "_model_module": "@jupyter-widgets/controls",
            "_model_module_version": "1.5.0",
            "_model_name": "FloatProgressModel",
            "_view_count": null,
            "_view_module": "@jupyter-widgets/controls",
            "_view_module_version": "1.5.0",
            "_view_name": "ProgressView",
            "bar_style": "success",
            "description": "100%",
            "description_tooltip": null,
            "layout": "IPY_MODEL_6fb3e28d4eee4fecaaeb3939ac01c1f6",
            "max": 4,
            "min": 0,
            "orientation": "horizontal",
            "style": "IPY_MODEL_30ff75568e064091bfe248bc21e98c36",
            "value": 4
          }
        },
        "62d3161d43d74b5cbd7613496c783c05": {
          "model_module": "@jupyter-widgets/controls",
          "model_name": "HTMLModel",
          "model_module_version": "1.5.0",
          "state": {
            "_dom_classes": [],
            "_model_module": "@jupyter-widgets/controls",
            "_model_module_version": "1.5.0",
            "_model_name": "HTMLModel",
            "_view_count": null,
            "_view_module": "@jupyter-widgets/controls",
            "_view_module_version": "1.5.0",
            "_view_name": "HTMLView",
            "description": "",
            "description_tooltip": null,
            "layout": "IPY_MODEL_1dbe10c993be4c94ab99bbb9c7ae9328",
            "placeholder": "​",
            "style": "IPY_MODEL_60c154a59e16471684bef1ccc4fa66ba",
            "value": " 4/4 [00:10&lt;00:00,  2.64s/it]"
          }
        },
        "c9a853f69b6d489b896da77c6a7081cd": {
          "model_module": "@jupyter-widgets/base",
          "model_name": "LayoutModel",
          "model_module_version": "1.2.0",
          "state": {
            "_model_module": "@jupyter-widgets/base",
            "_model_module_version": "1.2.0",
            "_model_name": "LayoutModel",
            "_view_count": null,
            "_view_module": "@jupyter-widgets/base",
            "_view_module_version": "1.2.0",
            "_view_name": "LayoutView",
            "align_content": null,
            "align_items": null,
            "align_self": null,
            "border": null,
            "bottom": null,
            "display": null,
            "flex": null,
            "flex_flow": null,
            "grid_area": null,
            "grid_auto_columns": null,
            "grid_auto_flow": null,
            "grid_auto_rows": null,
            "grid_column": null,
            "grid_gap": null,
            "grid_row": null,
            "grid_template_areas": null,
            "grid_template_columns": null,
            "grid_template_rows": null,
            "height": null,
            "justify_content": null,
            "justify_items": null,
            "left": null,
            "margin": null,
            "max_height": null,
            "max_width": null,
            "min_height": null,
            "min_width": null,
            "object_fit": null,
            "object_position": null,
            "order": null,
            "overflow": null,
            "overflow_x": null,
            "overflow_y": null,
            "padding": null,
            "right": null,
            "top": null,
            "visibility": null,
            "width": null
          }
        },
        "6fb3e28d4eee4fecaaeb3939ac01c1f6": {
          "model_module": "@jupyter-widgets/base",
          "model_name": "LayoutModel",
          "model_module_version": "1.2.0",
          "state": {
            "_model_module": "@jupyter-widgets/base",
            "_model_module_version": "1.2.0",
            "_model_name": "LayoutModel",
            "_view_count": null,
            "_view_module": "@jupyter-widgets/base",
            "_view_module_version": "1.2.0",
            "_view_name": "LayoutView",
            "align_content": null,
            "align_items": null,
            "align_self": null,
            "border": null,
            "bottom": null,
            "display": null,
            "flex": null,
            "flex_flow": null,
            "grid_area": null,
            "grid_auto_columns": null,
            "grid_auto_flow": null,
            "grid_auto_rows": null,
            "grid_column": null,
            "grid_gap": null,
            "grid_row": null,
            "grid_template_areas": null,
            "grid_template_columns": null,
            "grid_template_rows": null,
            "height": null,
            "justify_content": null,
            "justify_items": null,
            "left": null,
            "margin": null,
            "max_height": null,
            "max_width": null,
            "min_height": null,
            "min_width": null,
            "object_fit": null,
            "object_position": null,
            "order": null,
            "overflow": null,
            "overflow_x": null,
            "overflow_y": null,
            "padding": null,
            "right": null,
            "top": null,
            "visibility": null,
            "width": null
          }
        },
        "30ff75568e064091bfe248bc21e98c36": {
          "model_module": "@jupyter-widgets/controls",
          "model_name": "ProgressStyleModel",
          "model_module_version": "1.5.0",
          "state": {
            "_model_module": "@jupyter-widgets/controls",
            "_model_module_version": "1.5.0",
            "_model_name": "ProgressStyleModel",
            "_view_count": null,
            "_view_module": "@jupyter-widgets/base",
            "_view_module_version": "1.2.0",
            "_view_name": "StyleView",
            "bar_color": null,
            "description_width": "initial"
          }
        },
        "1dbe10c993be4c94ab99bbb9c7ae9328": {
          "model_module": "@jupyter-widgets/base",
          "model_name": "LayoutModel",
          "model_module_version": "1.2.0",
          "state": {
            "_model_module": "@jupyter-widgets/base",
            "_model_module_version": "1.2.0",
            "_model_name": "LayoutModel",
            "_view_count": null,
            "_view_module": "@jupyter-widgets/base",
            "_view_module_version": "1.2.0",
            "_view_name": "LayoutView",
            "align_content": null,
            "align_items": null,
            "align_self": null,
            "border": null,
            "bottom": null,
            "display": null,
            "flex": null,
            "flex_flow": null,
            "grid_area": null,
            "grid_auto_columns": null,
            "grid_auto_flow": null,
            "grid_auto_rows": null,
            "grid_column": null,
            "grid_gap": null,
            "grid_row": null,
            "grid_template_areas": null,
            "grid_template_columns": null,
            "grid_template_rows": null,
            "height": null,
            "justify_content": null,
            "justify_items": null,
            "left": null,
            "margin": null,
            "max_height": null,
            "max_width": null,
            "min_height": null,
            "min_width": null,
            "object_fit": null,
            "object_position": null,
            "order": null,
            "overflow": null,
            "overflow_x": null,
            "overflow_y": null,
            "padding": null,
            "right": null,
            "top": null,
            "visibility": null,
            "width": null
          }
        },
        "60c154a59e16471684bef1ccc4fa66ba": {
          "model_module": "@jupyter-widgets/controls",
          "model_name": "DescriptionStyleModel",
          "model_module_version": "1.5.0",
          "state": {
            "_model_module": "@jupyter-widgets/controls",
            "_model_module_version": "1.5.0",
            "_model_name": "DescriptionStyleModel",
            "_view_count": null,
            "_view_module": "@jupyter-widgets/base",
            "_view_module_version": "1.2.0",
            "_view_name": "StyleView",
            "description_width": ""
          }
        },
        "8f8ae21fea914275bdca3ac6742a137b": {
          "model_module": "@jupyter-widgets/controls",
          "model_name": "HBoxModel",
          "model_module_version": "1.5.0",
          "state": {
            "_dom_classes": [],
            "_model_module": "@jupyter-widgets/controls",
            "_model_module_version": "1.5.0",
            "_model_name": "HBoxModel",
            "_view_count": null,
            "_view_module": "@jupyter-widgets/controls",
            "_view_module_version": "1.5.0",
            "_view_name": "HBoxView",
            "box_style": "",
            "children": [
              "IPY_MODEL_6df5f6c8325f44dc847dc1c9c9c97b25",
              "IPY_MODEL_69a3f3f5b8044dc6b89c2bfde315f2e1"
            ],
            "layout": "IPY_MODEL_85c869c0a68b4032bd47d20ed5b0bc0b"
          }
        },
        "6df5f6c8325f44dc847dc1c9c9c97b25": {
          "model_module": "@jupyter-widgets/controls",
          "model_name": "FloatProgressModel",
          "model_module_version": "1.5.0",
          "state": {
            "_dom_classes": [],
            "_model_module": "@jupyter-widgets/controls",
            "_model_module_version": "1.5.0",
            "_model_name": "FloatProgressModel",
            "_view_count": null,
            "_view_module": "@jupyter-widgets/controls",
            "_view_module_version": "1.5.0",
            "_view_name": "ProgressView",
            "bar_style": "success",
            "description": "100%",
            "description_tooltip": null,
            "layout": "IPY_MODEL_1f2c28b4d30345988452328d714bdb8e",
            "max": 1,
            "min": 0,
            "orientation": "horizontal",
            "style": "IPY_MODEL_bde5c6cd503742bea97618fb217dcafb",
            "value": 1
          }
        },
        "69a3f3f5b8044dc6b89c2bfde315f2e1": {
          "model_module": "@jupyter-widgets/controls",
          "model_name": "HTMLModel",
          "model_module_version": "1.5.0",
          "state": {
            "_dom_classes": [],
            "_model_module": "@jupyter-widgets/controls",
            "_model_module_version": "1.5.0",
            "_model_name": "HTMLModel",
            "_view_count": null,
            "_view_module": "@jupyter-widgets/controls",
            "_view_module_version": "1.5.0",
            "_view_name": "HTMLView",
            "description": "",
            "description_tooltip": null,
            "layout": "IPY_MODEL_67080ce608654c7697d7a687f02a8168",
            "placeholder": "​",
            "style": "IPY_MODEL_a72a323b2bc34da0b55a321d071ed845",
            "value": " 1/1 [00:00&lt;00:00,  9.54it/s]"
          }
        },
        "85c869c0a68b4032bd47d20ed5b0bc0b": {
          "model_module": "@jupyter-widgets/base",
          "model_name": "LayoutModel",
          "model_module_version": "1.2.0",
          "state": {
            "_model_module": "@jupyter-widgets/base",
            "_model_module_version": "1.2.0",
            "_model_name": "LayoutModel",
            "_view_count": null,
            "_view_module": "@jupyter-widgets/base",
            "_view_module_version": "1.2.0",
            "_view_name": "LayoutView",
            "align_content": null,
            "align_items": null,
            "align_self": null,
            "border": null,
            "bottom": null,
            "display": null,
            "flex": null,
            "flex_flow": null,
            "grid_area": null,
            "grid_auto_columns": null,
            "grid_auto_flow": null,
            "grid_auto_rows": null,
            "grid_column": null,
            "grid_gap": null,
            "grid_row": null,
            "grid_template_areas": null,
            "grid_template_columns": null,
            "grid_template_rows": null,
            "height": null,
            "justify_content": null,
            "justify_items": null,
            "left": null,
            "margin": null,
            "max_height": null,
            "max_width": null,
            "min_height": null,
            "min_width": null,
            "object_fit": null,
            "object_position": null,
            "order": null,
            "overflow": null,
            "overflow_x": null,
            "overflow_y": null,
            "padding": null,
            "right": null,
            "top": null,
            "visibility": null,
            "width": null
          }
        },
        "1f2c28b4d30345988452328d714bdb8e": {
          "model_module": "@jupyter-widgets/base",
          "model_name": "LayoutModel",
          "model_module_version": "1.2.0",
          "state": {
            "_model_module": "@jupyter-widgets/base",
            "_model_module_version": "1.2.0",
            "_model_name": "LayoutModel",
            "_view_count": null,
            "_view_module": "@jupyter-widgets/base",
            "_view_module_version": "1.2.0",
            "_view_name": "LayoutView",
            "align_content": null,
            "align_items": null,
            "align_self": null,
            "border": null,
            "bottom": null,
            "display": null,
            "flex": null,
            "flex_flow": null,
            "grid_area": null,
            "grid_auto_columns": null,
            "grid_auto_flow": null,
            "grid_auto_rows": null,
            "grid_column": null,
            "grid_gap": null,
            "grid_row": null,
            "grid_template_areas": null,
            "grid_template_columns": null,
            "grid_template_rows": null,
            "height": null,
            "justify_content": null,
            "justify_items": null,
            "left": null,
            "margin": null,
            "max_height": null,
            "max_width": null,
            "min_height": null,
            "min_width": null,
            "object_fit": null,
            "object_position": null,
            "order": null,
            "overflow": null,
            "overflow_x": null,
            "overflow_y": null,
            "padding": null,
            "right": null,
            "top": null,
            "visibility": null,
            "width": null
          }
        },
        "bde5c6cd503742bea97618fb217dcafb": {
          "model_module": "@jupyter-widgets/controls",
          "model_name": "ProgressStyleModel",
          "model_module_version": "1.5.0",
          "state": {
            "_model_module": "@jupyter-widgets/controls",
            "_model_module_version": "1.5.0",
            "_model_name": "ProgressStyleModel",
            "_view_count": null,
            "_view_module": "@jupyter-widgets/base",
            "_view_module_version": "1.2.0",
            "_view_name": "StyleView",
            "bar_color": null,
            "description_width": "initial"
          }
        },
        "67080ce608654c7697d7a687f02a8168": {
          "model_module": "@jupyter-widgets/base",
          "model_name": "LayoutModel",
          "model_module_version": "1.2.0",
          "state": {
            "_model_module": "@jupyter-widgets/base",
            "_model_module_version": "1.2.0",
            "_model_name": "LayoutModel",
            "_view_count": null,
            "_view_module": "@jupyter-widgets/base",
            "_view_module_version": "1.2.0",
            "_view_name": "LayoutView",
            "align_content": null,
            "align_items": null,
            "align_self": null,
            "border": null,
            "bottom": null,
            "display": null,
            "flex": null,
            "flex_flow": null,
            "grid_area": null,
            "grid_auto_columns": null,
            "grid_auto_flow": null,
            "grid_auto_rows": null,
            "grid_column": null,
            "grid_gap": null,
            "grid_row": null,
            "grid_template_areas": null,
            "grid_template_columns": null,
            "grid_template_rows": null,
            "height": null,
            "justify_content": null,
            "justify_items": null,
            "left": null,
            "margin": null,
            "max_height": null,
            "max_width": null,
            "min_height": null,
            "min_width": null,
            "object_fit": null,
            "object_position": null,
            "order": null,
            "overflow": null,
            "overflow_x": null,
            "overflow_y": null,
            "padding": null,
            "right": null,
            "top": null,
            "visibility": null,
            "width": null
          }
        },
        "a72a323b2bc34da0b55a321d071ed845": {
          "model_module": "@jupyter-widgets/controls",
          "model_name": "DescriptionStyleModel",
          "model_module_version": "1.5.0",
          "state": {
            "_model_module": "@jupyter-widgets/controls",
            "_model_module_version": "1.5.0",
            "_model_name": "DescriptionStyleModel",
            "_view_count": null,
            "_view_module": "@jupyter-widgets/base",
            "_view_module_version": "1.2.0",
            "_view_name": "StyleView",
            "description_width": ""
          }
        }
      }
    }
  },
  "cells": [
    {
      "cell_type": "markdown",
      "metadata": {
        "id": "view-in-github",
        "colab_type": "text"
      },
      "source": [
        "<a href=\"https://colab.research.google.com/github/danyesss/NLP/blob/main/corpus_creation.ipynb\" target=\"_parent\"><img src=\"https://colab.research.google.com/assets/colab-badge.svg\" alt=\"Open In Colab\"/></a>"
      ]
    },
    {
      "cell_type": "markdown",
      "metadata": {
        "id": "-9Jttgd8evcI"
      },
      "source": [
        "# Russian language dataset"
      ]
    },
    {
      "cell_type": "code",
      "metadata": {
        "id": "qyM4bYZgevcK",
        "colab": {
          "base_uri": "https://localhost:8080/"
        },
        "outputId": "78aeca46-9e0a-476a-b399-ce6cb194d513"
      },
      "source": [
        "!pip install langdetect tqdm\n",
        "!pip install \"tqdm==4.43.0\"\n",
        "!sudo apt-get install -y xsltproc\n",
        "from fastai.basics import *\n",
        "from tqdm import *\n",
        "from tqdm.contrib.concurrent import process_map, thread_map\n",
        "from multiprocessing import Pool\n",
        "import regex as re\n",
        "import time\n",
        "from langdetect import detect\n",
        "from langdetect.lang_detect_exception import LangDetectException\n",
        " \n",
        "librusec = '/home/u/nas/librusec/lib.rus.ec'\n",
        "tmpzips = './tmp/zip'\n",
        "tmptxt = './tmp/txt'\n",
        "tmpfb2clean = './tmp/fb2clean'\n",
        "tmpfb2unzip = './tmp/fb2unzip'\n",
        "data = Path('../data/full')\n",
        " \n",
        "!curl -LJO https://raw.githubusercontent.com/mgrankin/ru_transformers/master/corpus/FB2_2_txt.xsl\n",
        "\n",
        "!mkdir ../data\n",
        "!mkdir ../data/full\n",
        "!mkdir ../data/classic\n",
        "!mkdir tmp\n",
        "!mkdir tmp/fb2unzip\n",
        "!mkdir tmp/fb2clean\n",
        "!mkdir tmp/txt\n",
        "!mkdir tmp/zip"
      ],
      "execution_count": null,
      "outputs": [
        {
          "output_type": "stream",
          "name": "stdout",
          "text": [
            "Looking in indexes: https://pypi.org/simple, https://us-python.pkg.dev/colab-wheels/public/simple/\n",
            "Requirement already satisfied: langdetect in /usr/local/lib/python3.7/dist-packages (1.0.9)\n",
            "Requirement already satisfied: tqdm in /usr/local/lib/python3.7/dist-packages (4.43.0)\n",
            "Requirement already satisfied: six in /usr/local/lib/python3.7/dist-packages (from langdetect) (1.15.0)\n",
            "Looking in indexes: https://pypi.org/simple, https://us-python.pkg.dev/colab-wheels/public/simple/\n",
            "Requirement already satisfied: tqdm==4.43.0 in /usr/local/lib/python3.7/dist-packages (4.43.0)\n",
            "Reading package lists... Done\n",
            "Building dependency tree       \n",
            "Reading state information... Done\n",
            "xsltproc is already the newest version (1.1.29-5ubuntu0.2).\n",
            "The following package was automatically installed and is no longer required:\n",
            "  libnvidia-common-460\n",
            "Use 'sudo apt autoremove' to remove it.\n",
            "0 upgraded, 0 newly installed, 0 to remove and 49 not upgraded.\n",
            "  % Total    % Received % Xferd  Average Speed   Time    Time     Time  Current\n",
            "                                 Dload  Upload   Total   Spent    Left  Speed\n",
            "100  5003  100  5003    0     0  48105      0 --:--:-- --:--:-- --:--:-- 48105\n",
            "mkdir: cannot create directory ‘../data’: File exists\n",
            "mkdir: cannot create directory ‘../data/full’: File exists\n",
            "mkdir: cannot create directory ‘../data/classic’: File exists\n",
            "mkdir: cannot create directory ‘tmp’: File exists\n",
            "mkdir: cannot create directory ‘tmp/fb2unzip’: File exists\n",
            "mkdir: cannot create directory ‘tmp/fb2clean’: File exists\n",
            "mkdir: cannot create directory ‘tmp/txt’: File exists\n",
            "mkdir: cannot create directory ‘tmp/zip’: File exists\n"
          ]
        }
      ]
    },
    {
      "cell_type": "markdown",
      "metadata": {
        "id": "YfsNWkxOevcy"
      },
      "source": [
        "### Unpack ZIPs"
      ]
    },
    {
      "cell_type": "markdown",
      "metadata": {
        "id": "qWZmL9zGsljA"
      },
      "source": [
        "Before running this we need to upload our fb2 zip files to /tmp/zip and then run this script"
      ]
    },
    {
      "cell_type": "code",
      "metadata": {
        "id": "5u1sPX302-Vp"
      },
      "source": [
        "# clean the output directory \n",
        "!rm -rfv {tmpfb2unzip + '/*'}"
      ],
      "execution_count": null,
      "outputs": []
    },
    {
      "cell_type": "code",
      "source": [
        "zips = get_files(tmpzips, '.zip')\n",
        "print(f'{len(zips)} zip file(s) found')\n"
      ],
      "metadata": {
        "colab": {
          "base_uri": "https://localhost:8080/"
        },
        "id": "nliFAKkZPxWZ",
        "outputId": "b2a84ba9-74a6-4fd0-a2e8-81c3bd7f99df"
      },
      "execution_count": null,
      "outputs": [
        {
          "output_type": "stream",
          "name": "stdout",
          "text": [
            "1 zip file(s) found\n"
          ]
        }
      ]
    },
    {
      "cell_type": "code",
      "metadata": {
        "id": "Vb9jDGqTevcz",
        "colab": {
          "base_uri": "https://localhost:8080/",
          "height": 84,
          "referenced_widgets": [
            "0530392ccc604af7a78d71dafe6a251a",
            "03b0efa4d2044e139081a7f6b7adee16",
            "ca37501ffb9b491c9a69185c8432164c",
            "4bd5c7df2eec430db36e4b916f4f55f4",
            "caae262d19bb46ed9b2763c02410afd6",
            "20540ec9afaf4ce5b117848a9a7c865c",
            "85ed0e54c1e24dbc96ea1fae5b44724f",
            "af0ff4c35a6041ffbe568c17ea75fedd"
          ]
        },
        "outputId": "6ef62baa-a37c-4e31-da5f-6f253ab9f82c"
      },
      "source": [
        "def unpack(fn):\n",
        "    !unzip -qq -joL -qo -O cp396 {fn} -d {tmpfb2unzip} >>/dev/null\n",
        "\n",
        "# Unpack zips in parallel\n",
        "thread_map(unpack, zips, max_workers=64)\n",
        "print(f'Unzipped all - DONE')\n",
        "\n",
        "# Sanitize file and folder names - remove spaces\n",
        "!find $tmp -depth -name \"* *\" -execdir rename 's/ /_/g' \"{}\" \\;"
      ],
      "execution_count": null,
      "outputs": [
        {
          "output_type": "display_data",
          "data": {
            "text/plain": [
              "HBox(children=(FloatProgress(value=0.0, max=1.0), HTML(value='')))"
            ],
            "application/vnd.jupyter.widget-view+json": {
              "version_major": 2,
              "version_minor": 0,
              "model_id": "0530392ccc604af7a78d71dafe6a251a"
            }
          },
          "metadata": {}
        },
        {
          "output_type": "stream",
          "name": "stdout",
          "text": [
            "\n",
            "Unzipped all - DONE\n"
          ]
        }
      ]
    },
    {
      "cell_type": "markdown",
      "metadata": {
        "id": "axX-uz4EevdM"
      },
      "source": [
        "### Convert fb2 to txt"
      ]
    },
    {
      "cell_type": "code",
      "metadata": {
        "id": "lcbAxHyL2sYj",
        "colab": {
          "base_uri": "https://localhost:8080/"
        },
        "outputId": "0ba394f3-a669-45ea-fabc-3a65f69a43ce"
      },
      "source": [
        "# clean the output directory \n",
        "!rm -rfv {tmpfb2clean + '/*'}"
      ],
      "execution_count": null,
      "outputs": [
        {
          "output_type": "stream",
          "name": "stdout",
          "text": [
            "removed './tmp/fb2clean/Осинский_-_Виктор_Пелевин_и_эффект_Пустоты.fb2'\n",
            "removed './tmp/fb2clean/Пелевин_1_Орден_желтого_флага.fb2'\n",
            "removed './tmp/fb2clean/Пелевин_2_Железная_бездна.fb2'\n",
            "removed './tmp/fb2clean/Пелевин_-_46_интервью_с_Пелевиным.fb2'\n",
            "removed './tmp/fb2clean/Пелевин_-_Empire_V.fb2'\n",
            "removed './tmp/fb2clean/Пелевин_-_Generation_«П».fb2'\n",
            "removed './tmp/fb2clean/Пелевин_-_iPhuck_10.fb2'\n",
            "removed './tmp/fb2clean/Пелевин_-_Relics_Раннее_и_неизданное_Сборник.fb2'\n",
            "removed './tmp/fb2clean/Пелевин_-_SNUFF.fb2'\n",
            "removed './tmp/fb2clean/Пелевин_-_t.fb2'\n",
            "removed './tmp/fb2clean/Пелевин_-_Timeout_или_Вечерняя_Москва.fb2'\n",
            "removed './tmp/fb2clean/Пелевин_-_Ultima_Тулеев_или_Дао_выборов.fb2'\n",
            "removed './tmp/fb2clean/Пелевин_-_Who_by_fire.fb2'\n",
            "removed './tmp/fb2clean/Пелевин_-_Акико.fb2'\n",
            "removed './tmp/fb2clean/Пелевин_-_Ампир_«В».fb2'\n",
            "removed './tmp/fb2clean/Пелевин_-_Ананасная_вода_для_прекрасной_дамы.fb2'\n",
            "removed './tmp/fb2clean/Пелевин_-_Ассасин.fb2'\n",
            "removed './tmp/fb2clean/Пелевин_-_Бубен_верхнего_мира.fb2'\n",
            "removed './tmp/fb2clean/Пелевин_-_Бубен_нижнего_мира.fb2'\n",
            "removed './tmp/fb2clean/Пелевин_-_Бэтман_Аполло.fb2'\n",
            "removed './tmp/fb2clean/Пелевин_-_Вести_из_Непала.fb2'\n",
            "removed './tmp/fb2clean/Пелевин_-_Виктор_Пелевин_спрашивает_PRов.fb2'\n",
            "removed './tmp/fb2clean/Пелевин_-_Водонапорная_башня.fb2'\n",
            "removed './tmp/fb2clean/Пелевин_-_Все_повести_и_эссе_Авторский_сборник.fb2'\n",
            "removed './tmp/fb2clean/Пелевин_-_Все_повести_и_эссе_[сборник].fb2'\n",
            "removed './tmp/fb2clean/Пелевин_-_Все_рассказы_[сборник].fb2'\n",
            "removed './tmp/fb2clean/Пелевин_-_Все_рассказы_Сборник.fb2'\n",
            "removed './tmp/fb2clean/Пелевин_-_Встроенный_напоминатель.fb2'\n",
            "removed './tmp/fb2clean/Пелевин_-_Гадание_на_рунах_или_рунический_оракул_Ральфа_Блума.fb2'\n",
            "removed './tmp/fb2clean/Пелевин_-_ГКЧП_как_тетраграмматон.fb2'\n",
            "removed './tmp/fb2clean/Пелевин_-_Греческий_вариант.fb2'\n",
            "removed './tmp/fb2clean/Пелевин_-_Девятый_сон_Веры_Павловны.fb2'\n",
            "removed './tmp/fb2clean/Пелевин_-_День_бульдозериста.fb2'\n",
            "removed './tmp/fb2clean/Пелевин_-_Джон_Фаулз_и_трагедия_русского_либерализма.fb2'\n",
            "removed './tmp/fb2clean/Пелевин_-_Диалектика_Переходного_Периода_Из_Ниоткуда_В_Никуда.fb2'\n",
            "removed './tmp/fb2clean/Пелевин_-_ДПП_НН_сборник.fb2'\n",
            "removed './tmp/fb2clean/Пелевин_-_Желтая_стрела.fb2'\n",
            "removed './tmp/fb2clean/Пелевин_-_Жизнь_и_приключения_сарая_номер_XII.fb2'\n",
            "removed './tmp/fb2clean/Пелевин_-_Жизнь_насекомых.fb2'\n",
            "removed './tmp/fb2clean/Пелевин_-_Зал_поющих_кариатид.fb2'\n",
            "removed './tmp/fb2clean/Пелевин_-_Запись_о_поиске_ветра.fb2'\n",
            "removed './tmp/fb2clean/Пелевин_-_Затворник_и_Шестипалый.fb2'\n",
            "removed './tmp/fb2clean/Пелевин_-_Зигмунд_в_кафе.fb2'\n",
            "removed './tmp/fb2clean/Пелевин_-_Зомбификация_Опыт_сравнительной_антропологии.fb2'\n",
            "removed './tmp/fb2clean/Пелевин_-_Иван_Кублаханов.fb2'\n",
            "removed './tmp/fb2clean/Пелевин_-_Икстлан_–_Петушки.fb2'\n",
            "removed './tmp/fb2clean/Пелевин_-_Имена_олигархов_на_карте_Родины.fb2'\n",
            "removed './tmp/fb2clean/Пелевин_-_Интервью_с_Виктором_Пелевиным_2.fb2'\n",
            "removed './tmp/fb2clean/Пелевин_-_Интервью_с_Виктором_Пелевиным.fb2'\n",
            "removed './tmp/fb2clean/Пелевин_-_Искусство_легких_касаний.fb2'\n",
            "removed './tmp/fb2clean/Пелевин_-_Код_Мира.fb2'\n",
            "removed './tmp/fb2clean/Пелевин_-_Колдун_Игнат_и_люди.fb2'\n",
            "removed './tmp/fb2clean/Пелевин_-_Колдун_Игнат_и_люди_сборник.fb2'\n",
            "removed './tmp/fb2clean/Пелевин_-_Кормление_крокодила_Хуфу.fb2'\n",
            "removed './tmp/fb2clean/Пелевин_-_Краткая_история_пэйнтбола_в_Москве.fb2'\n",
            "removed './tmp/fb2clean/Пелевин_-_Лампа_Мафусаила_или_Крайняя_битва_чекистов_с_масонами.fb2'\n",
            "removed './tmp/fb2clean/Пелевин_-_Луноход.fb2'\n",
            "removed './tmp/fb2clean/Пелевин_-_Любовь_к_трем_цукербринам.fb2'\n",
            "removed './tmp/fb2clean/Пелевин_-_Македонская_критика_французской_мысли_Сборник.fb2'\n",
            "removed './tmp/fb2clean/Пелевин_-_Мардонги.fb2'\n",
            "removed './tmp/fb2clean/Пелевин_-_Миттельшпиль.fb2'\n",
            "removed './tmp/fb2clean/Пелевин_-_Мой_мескалитовый_трип.fb2'\n",
            "removed './tmp/fb2clean/Пелевин_-_Мост_который_я_хотел_перейти.fb2'\n",
            "removed './tmp/fb2clean/Пелевин_-_Музыка_со_столба.fb2'\n",
            "removed './tmp/fb2clean/Пелевин_-_Некромент.fb2'\n",
            "removed './tmp/fb2clean/Пелевин_-_Нижняя_тундра.fb2'\n",
            "removed './tmp/fb2clean/Пелевин_-_Ника.fb2'\n",
            "removed './tmp/fb2clean/Пелевин_-_Омон_Ра.fb2'\n",
            "removed './tmp/fb2clean/Пелевин_-_Онтология_детства.fb2'\n",
            "removed './tmp/fb2clean/Пелевин_-_Оружие_возмездия.fb2'\n",
            "removed './tmp/fb2clean/Пелевин_-_Откровение_Крегера.fb2'\n",
            "removed './tmp/fb2clean/Пелевин_-_Папахи_на_башнях.fb2'\n",
            "removed './tmp/fb2clean/Пелевин_-_Подземное_небо.fb2'\n",
            "removed './tmp/fb2clean/Пелевин_-_Последняя_шутка_воина.fb2'\n",
            "removed './tmp/fb2clean/Пелевин_-_Принц_Госплана.fb2'\n",
            "removed './tmp/fb2clean/Пелевин_-_Проблема_верволка_в_средней_полосе.fb2'\n",
            "removed './tmp/fb2clean/Пелевин_-_Происхождение_видов.fb2'\n",
            "removed './tmp/fb2clean/Пелевин_-_Пространство_Фридмана.fb2'\n",
            "removed './tmp/fb2clean/Пелевин_-_Прощальные_песни_политических_пигмеев_Пиндостана.fb2'\n",
            "removed './tmp/fb2clean/Пелевин_-_Реконструктор.fb2'\n",
            "removed './tmp/fb2clean/Пелевин_-_Свет_горизонта.fb2'\n",
            "removed './tmp/fb2clean/Пелевин_-_Святочный_киберпанк_117dir.fb2'\n",
            "removed './tmp/fb2clean/Пелевин_-_Священная_книга_оборотня.fb2'\n",
            "removed './tmp/fb2clean/Пелевин_-_Синий_фонарь.fb2'\n",
            "removed './tmp/fb2clean/Пелевин_-_Синий_фонарь_рассказ.fb2'\n",
            "removed './tmp/fb2clean/Пелевин_-_Синий_фонарь_[сборник_рассказов].fb2'\n",
            "removed './tmp/fb2clean/Пелевин_-_Спи.fb2'\n",
            "removed './tmp/fb2clean/Пелевин_-_СССР_Тайшоу_Чжуань.fb2'\n",
            "removed './tmp/fb2clean/Пелевин_-_Тайм-аут_или_Вечерняя_Москва.fb2'\n",
            "removed './tmp/fb2clean/Пелевин_-_Тайные_виды_на_гору_Фудзи.fb2'\n",
            "removed './tmp/fb2clean/Пелевин_-_Тарзанка.fb2'\n",
            "removed './tmp/fb2clean/Пелевин_-_Тхаги.fb2'\n",
            "removed './tmp/fb2clean/Пелевин_-_Ухряб.fb2'\n",
            "removed './tmp/fb2clean/Пелевин_-_Фокус-группа_Сборник.fb2'\n",
            "removed './tmp/fb2clean/Пелевин_-_Хрустальный_мир.fb2'\n",
            "removed './tmp/fb2clean/Пелевин_-_Чапаев_и_Пустота.fb2'\n",
            "removed './tmp/fb2clean/Пелевин_-_Числа.fb2'\n",
            "removed './tmp/fb2clean/Пелевин_-_Шлем_ужаса.fb2'\n",
            "removed './tmp/fb2clean/Пелевин_-_Эссе_статьи.fb2'\n",
            "removed './tmp/fb2clean/Полотовский_Козак_-_Пелевин_и_поколение_пустоты.fb2'\n",
            "removed './tmp/fb2clean/Сиротин_-_Будущая_запрещенная_книга.fb2'\n",
            "removed './tmp/fb2clean/Сиротин_-_Виктор_Пелевин__эволюция_в_постмодернизме.fb2'\n"
          ]
        }
      ]
    },
    {
      "cell_type": "code",
      "metadata": {
        "id": "cCY0yEsX20Wp",
        "colab": {
          "base_uri": "https://localhost:8080/"
        },
        "outputId": "7d46edaf-98a6-45be-84bb-68f2db94af3f"
      },
      "source": [
        "# clean the output directory \n",
        "!rm -rfv {tmptxt + '/*'}"
      ],
      "execution_count": null,
      "outputs": [
        {
          "output_type": "stream",
          "name": "stdout",
          "text": [
            "removed './tmp/txt/Осинский_-_Виктор_Пелевин_и_эффект_Пустоты.txt'\n",
            "removed './tmp/txt/Пелевин_1_Орден_желтого_флага.txt'\n",
            "removed './tmp/txt/Пелевин_2_Железная_бездна.txt'\n",
            "removed './tmp/txt/Пелевин_-_46_интервью_с_Пелевиным.txt'\n",
            "removed './tmp/txt/Пелевин_-_Empire_V.txt'\n",
            "removed './tmp/txt/Пелевин_-_Generation_«П».txt'\n",
            "removed './tmp/txt/Пелевин_-_iPhuck_10.txt'\n",
            "removed './tmp/txt/Пелевин_-_Relics_Раннее_и_неизданное_Сборник.txt'\n",
            "removed './tmp/txt/Пелевин_-_SNUFF.txt'\n",
            "removed './tmp/txt/Пелевин_-_Timeout_или_Вечерняя_Москва.txt'\n",
            "removed './tmp/txt/Пелевин_-_t.txt'\n",
            "removed './tmp/txt/Пелевин_-_Ultima_Тулеев_или_Дао_выборов.txt'\n",
            "removed './tmp/txt/Пелевин_-_Who_by_fire.txt'\n",
            "removed './tmp/txt/Пелевин_-_Акико.txt'\n",
            "removed './tmp/txt/Пелевин_-_Ампир_«В».txt'\n",
            "removed './tmp/txt/Пелевин_-_Ананасная_вода_для_прекрасной_дамы.txt'\n",
            "removed './tmp/txt/Пелевин_-_Ассасин.txt'\n",
            "removed './tmp/txt/Пелевин_-_Бубен_верхнего_мира.txt'\n",
            "removed './tmp/txt/Пелевин_-_Бубен_нижнего_мира.txt'\n",
            "removed './tmp/txt/Пелевин_-_Бэтман_Аполло.txt'\n",
            "removed './tmp/txt/Пелевин_-_Вести_из_Непала.txt'\n",
            "removed './tmp/txt/Пелевин_-_Виктор_Пелевин_спрашивает_PRов.txt'\n",
            "removed './tmp/txt/Пелевин_-_Водонапорная_башня.txt'\n",
            "removed './tmp/txt/Пелевин_-_Все_повести_и_эссе_Авторский_сборник.txt'\n",
            "removed './tmp/txt/Пелевин_-_Все_повести_и_эссе_[сборник].txt'\n",
            "removed './tmp/txt/Пелевин_-_Все_рассказы_[сборник].txt'\n",
            "removed './tmp/txt/Пелевин_-_Все_рассказы_Сборник.txt'\n",
            "removed './tmp/txt/Пелевин_-_Встроенный_напоминатель.txt'\n",
            "removed './tmp/txt/Пелевин_-_Гадание_на_рунах_или_рунический_оракул_Ральфа_Блума.txt'\n",
            "removed './tmp/txt/Пелевин_-_ГКЧП_как_тетраграмматон.txt'\n",
            "removed './tmp/txt/Пелевин_-_Греческий_вариант.txt'\n",
            "removed './tmp/txt/Пелевин_-_Девятый_сон_Веры_Павловны.txt'\n",
            "removed './tmp/txt/Пелевин_-_День_бульдозериста.txt'\n",
            "removed './tmp/txt/Пелевин_-_Джон_Фаулз_и_трагедия_русского_либерализма.txt'\n",
            "removed './tmp/txt/Пелевин_-_Диалектика_Переходного_Периода_Из_Ниоткуда_В_Никуда.txt'\n",
            "removed './tmp/txt/Пелевин_-_ДПП_НН_сборник.txt'\n",
            "removed './tmp/txt/Пелевин_-_Желтая_стрела.txt'\n",
            "removed './tmp/txt/Пелевин_-_Жизнь_и_приключения_сарая_номер_XII.txt'\n",
            "removed './tmp/txt/Пелевин_-_Жизнь_насекомых.txt'\n",
            "removed './tmp/txt/Пелевин_-_Зал_поющих_кариатид.txt'\n",
            "removed './tmp/txt/Пелевин_-_Запись_о_поиске_ветра.txt'\n",
            "removed './tmp/txt/Пелевин_-_Затворник_и_Шестипалый.txt'\n",
            "removed './tmp/txt/Пелевин_-_Зигмунд_в_кафе.txt'\n",
            "removed './tmp/txt/Пелевин_-_Зомбификация_Опыт_сравнительной_антропологии.txt'\n",
            "removed './tmp/txt/Пелевин_-_Иван_Кублаханов.txt'\n",
            "removed './tmp/txt/Пелевин_-_Икстлан_–_Петушки.txt'\n",
            "removed './tmp/txt/Пелевин_-_Имена_олигархов_на_карте_Родины.txt'\n",
            "removed './tmp/txt/Пелевин_-_Интервью_с_Виктором_Пелевиным_2.txt'\n",
            "removed './tmp/txt/Пелевин_-_Интервью_с_Виктором_Пелевиным.txt'\n",
            "removed './tmp/txt/Пелевин_-_Искусство_легких_касаний.txt'\n",
            "removed './tmp/txt/Пелевин_-_Код_Мира.txt'\n",
            "removed './tmp/txt/Пелевин_-_Колдун_Игнат_и_люди.txt'\n",
            "removed './tmp/txt/Пелевин_-_Колдун_Игнат_и_люди_сборник.txt'\n",
            "removed './tmp/txt/Пелевин_-_Кормление_крокодила_Хуфу.txt'\n",
            "removed './tmp/txt/Пелевин_-_Краткая_история_пэйнтбола_в_Москве.txt'\n",
            "removed './tmp/txt/Пелевин_-_Лампа_Мафусаила_или_Крайняя_битва_чекистов_с_масонами.txt'\n",
            "removed './tmp/txt/Пелевин_-_Луноход.txt'\n",
            "removed './tmp/txt/Пелевин_-_Любовь_к_трем_цукербринам.txt'\n",
            "removed './tmp/txt/Пелевин_-_Македонская_критика_французской_мысли_Сборник.txt'\n",
            "removed './tmp/txt/Пелевин_-_Мардонги.txt'\n",
            "removed './tmp/txt/Пелевин_-_Миттельшпиль.txt'\n",
            "removed './tmp/txt/Пелевин_-_Мой_мескалитовый_трип.txt'\n",
            "removed './tmp/txt/Пелевин_-_Мост_который_я_хотел_перейти.txt'\n",
            "removed './tmp/txt/Пелевин_-_Музыка_со_столба.txt'\n",
            "removed './tmp/txt/Пелевин_-_Некромент.txt'\n",
            "removed './tmp/txt/Пелевин_-_Нижняя_тундра.txt'\n",
            "removed './tmp/txt/Пелевин_-_Ника.txt'\n",
            "removed './tmp/txt/Пелевин_-_Омон_Ра.txt'\n",
            "removed './tmp/txt/Пелевин_-_Онтология_детства.txt'\n",
            "removed './tmp/txt/Пелевин_-_Оружие_возмездия.txt'\n",
            "removed './tmp/txt/Пелевин_-_Откровение_Крегера.txt'\n",
            "removed './tmp/txt/Пелевин_-_Папахи_на_башнях.txt'\n",
            "removed './tmp/txt/Пелевин_-_Подземное_небо.txt'\n",
            "removed './tmp/txt/Пелевин_-_Последняя_шутка_воина.txt'\n",
            "removed './tmp/txt/Пелевин_-_Принц_Госплана.txt'\n",
            "removed './tmp/txt/Пелевин_-_Проблема_верволка_в_средней_полосе.txt'\n",
            "removed './tmp/txt/Пелевин_-_Происхождение_видов.txt'\n",
            "removed './tmp/txt/Пелевин_-_Пространство_Фридмана.txt'\n",
            "removed './tmp/txt/Пелевин_-_Прощальные_песни_политических_пигмеев_Пиндостана.txt'\n",
            "removed './tmp/txt/Пелевин_-_Реконструктор.txt'\n",
            "removed './tmp/txt/Пелевин_-_Свет_горизонта.txt'\n",
            "removed './tmp/txt/Пелевин_-_Святочный_киберпанк_117dir.txt'\n",
            "removed './tmp/txt/Пелевин_-_Священная_книга_оборотня.txt'\n",
            "removed './tmp/txt/Пелевин_-_Синий_фонарь.txt'\n",
            "removed './tmp/txt/Пелевин_-_Синий_фонарь_рассказ.txt'\n",
            "removed './tmp/txt/Пелевин_-_Синий_фонарь_[сборник_рассказов].txt'\n",
            "removed './tmp/txt/Пелевин_-_Спи.txt'\n",
            "removed './tmp/txt/Пелевин_-_СССР_Тайшоу_Чжуань.txt'\n",
            "removed './tmp/txt/Пелевин_-_Тайм-аут_или_Вечерняя_Москва.txt'\n",
            "removed './tmp/txt/Пелевин_-_Тайные_виды_на_гору_Фудзи.txt'\n",
            "removed './tmp/txt/Пелевин_-_Тарзанка.txt'\n",
            "removed './tmp/txt/Пелевин_-_Тхаги.txt'\n",
            "removed './tmp/txt/Пелевин_-_Ухряб.txt'\n",
            "removed './tmp/txt/Пелевин_-_Фокус-группа_Сборник.txt'\n",
            "removed './tmp/txt/Пелевин_-_Хрустальный_мир.txt'\n",
            "removed './tmp/txt/Пелевин_-_Чапаев_и_Пустота.txt'\n",
            "removed './tmp/txt/Пелевин_-_Числа.txt'\n",
            "removed './tmp/txt/Пелевин_-_Шлем_ужаса.txt'\n",
            "removed './tmp/txt/Пелевин_-_Эссе_статьи.txt'\n",
            "removed './tmp/txt/Полотовский_Козак_-_Пелевин_и_поколение_пустоты.txt'\n",
            "removed './tmp/txt/Сиротин_-_Будущая_запрещенная_книга.txt'\n",
            "removed './tmp/txt/Сиротин_-_Виктор_Пелевин__эволюция_в_постмодернизме.txt'\n"
          ]
        }
      ]
    },
    {
      "cell_type": "code",
      "source": [
        "# Get fb2s\n",
        "fbs = get_files(tmpfb2unzip, '.fb2', recurse=True)\n",
        "\n",
        "# Sanitize filenames and move to the 'clean' dir\n",
        "for fn in fbs:\n",
        "    nn = (str(fn.name)\n",
        "        .replace(' ','')\n",
        "        .replace('_quot;','')\n",
        "        .replace('!','')\n",
        "        .replace(',','')\n",
        "        .replace('(','')\n",
        "        .replace(')','')\n",
        "        .replace('\\xa0','')\n",
        "        .replace('.','')\n",
        "        .replace('fb2', '.fb2')\n",
        "         )\n",
        "    shutil.move(fn, f'{tmpfb2clean}/{nn}')\n",
        "print(f'{len(fbs)} fb2(s) sanitized')\n"
      ],
      "metadata": {
        "colab": {
          "base_uri": "https://localhost:8080/"
        },
        "id": "ulqEt1RkPUW0",
        "outputId": "ee41b65c-3156-4726-c353-beabbd455e8b"
      },
      "execution_count": null,
      "outputs": [
        {
          "output_type": "stream",
          "name": "stdout",
          "text": [
            "4 fb2(s) sanitized\n"
          ]
        }
      ]
    },
    {
      "cell_type": "code",
      "metadata": {
        "id": "2oQ0Ot4BevdN",
        "colab": {
          "base_uri": "https://localhost:8080/",
          "height": 84,
          "referenced_widgets": [
            "ec6eec59cd6f4c618ffc48f687cd1897",
            "039a53de48814418b424f30bd7ef7804",
            "62d3161d43d74b5cbd7613496c783c05",
            "c9a853f69b6d489b896da77c6a7081cd",
            "6fb3e28d4eee4fecaaeb3939ac01c1f6",
            "30ff75568e064091bfe248bc21e98c36",
            "1dbe10c993be4c94ab99bbb9c7ae9328",
            "60c154a59e16471684bef1ccc4fa66ba"
          ]
        },
        "outputId": "1b98d26e-1577-4d63-82f8-940b19d66c63"
      },
      "source": [
        "# In order to convert you need to get the conversion xsl from here:\n",
        "# https://github.com/mgrankin/ru_transformers/blob/master/corpus/FB2_2_txt.xsl\n",
        "# and put it in the root folder\n",
        "def convert_fb2(fn):\n",
        "    #!xsltproc FB2_2_txt.xsl {fn} > {str(fn).replace(' ', '').replace('.fb2','.txt').replace('/fb2','/txt')} 2>>/dev/null\n",
        "    !xsltproc FB2_2_txt.xsl {fn} > {tmptxt + '/' + fn.name.replace('fb2', 'txt')} 2>>/dev/null\n",
        "    return {fn}\n",
        "\n",
        "# Get fb2s from the clean snitized dir\n",
        "fbs = get_files(tmpfb2clean, '.fb2')\n",
        "\n",
        "# convert all to .txt\n",
        "thread_map(convert_fb2, fbs, max_workers=64)\n",
        "print('FB2(s) conversion done')"
      ],
      "execution_count": null,
      "outputs": [
        {
          "output_type": "display_data",
          "data": {
            "text/plain": [
              "HBox(children=(FloatProgress(value=0.0, max=4.0), HTML(value='')))"
            ],
            "application/vnd.jupyter.widget-view+json": {
              "version_major": 2,
              "version_minor": 0,
              "model_id": "ec6eec59cd6f4c618ffc48f687cd1897"
            }
          },
          "metadata": {}
        },
        {
          "output_type": "stream",
          "name": "stdout",
          "text": [
            "\n",
            "FB2(s) conversion done\n"
          ]
        }
      ]
    },
    {
      "cell_type": "markdown",
      "metadata": {
        "id": "ZIuco_8a1I-4"
      },
      "source": [
        "### Filter and concat txt files"
      ]
    },
    {
      "cell_type": "code",
      "metadata": {
        "id": "puHJbvlq1SIu"
      },
      "source": [
        "txts = get_files('./tmp/txt', '.txt')\n",
        "print(f'Found {len(txts)} txt(s)')\n",
        "\n",
        "# this will take time, bcs langdetect fails on multithreading\n",
        "print('Running langdetect . . . ')\n",
        "\n",
        "for fn in progress_bar(txts):\n",
        "\n",
        "    with open(f'./{fn}', 'r') as f:\n",
        "        lines = f.read()\n",
        "        print(f)\n",
        "        print(fn)\n",
        "        print(len(lines))\n",
        "        try:\n",
        "            if len(lines) > 1e+4 and detect(lines) == 'ru':\n",
        "                with open(f'{data}/{fn.name}', 'w') as c:\n",
        "                    c.write(lines)\n",
        "        except LangDetectException as e:\n",
        "            pass\n",
        "\n",
        "# Add space before each word. It's not really nesessary. \n",
        "# It just makes encoding a bit more meaningful to the model and the text smaller(after encoding).\n",
        "print('Running text sanitization . . . ')\n",
        "def process_fn(fn):\n",
        "    match = re.compile(r'(?=[^ ])([\\W])([\\w])')\n",
        "    match2 = re.compile('(.|\\s)\\\\1\\\\1+')\n",
        "    with open(fn, 'r') as f:\n",
        "        lines = f.read()\n",
        "    if lines and lines[0] != ' ': lines = ' ' + lines\n",
        "    lines = match.sub(r'\\g<1> \\g<2>', lines)\n",
        "    lines = match2.sub(r'\\1'*3, lines)\n",
        "    with open(fn, 'w') as c:\n",
        "        c.write(lines)\n",
        "        \n",
        "thread_map(process_fn, txts)"
      ],
      "execution_count": null,
      "outputs": []
    },
    {
      "cell_type": "code",
      "source": [
        "txts = get_files('./tmp/txt', '.txt')\n",
        "length = len(txts)\n",
        "filter = np.ones(length, dtype=bool)\n",
        "filter[::4] = False"
      ],
      "metadata": {
        "id": "y6xQDt8pEq_D"
      },
      "execution_count": null,
      "outputs": []
    },
    {
      "cell_type": "code",
      "source": [
        "# txts = txts[filter]\n",
        "txts = txts[::4]\n",
        "print(f'Found {len(txts)} txt(s)')\n",
        "\n",
        "# this will take time, bcs langdetect fails on multithreading\n",
        "print('Running langdetect . . . ')\n",
        "i=0\n",
        "for fn in progress_bar(txts):\n",
        "    if i%2 == 0:\n",
        "      with open(f'./{fn}', 'r') as f:\n",
        "          lines = f.read()\n",
        "          print(f)\n",
        "          print(fn)\n",
        "          print(len(lines))\n",
        "          try:\n",
        "              if len(lines) > 1e+4 and detect(lines) == 'ru':\n",
        "                  with open(f'{data}/{fn.name}', 'w') as c:\n",
        "                      c.write(lines)\n",
        "          except LangDetectException as e:\n",
        "              pass\n",
        "    i += 1\n",
        "\n",
        "# Add space before each word. It's not really nesessary. \n",
        "# It just makes encoding a bit more meaningful to the model and the text smaller(after encoding).\n",
        "print('Running text sanitization . . . ')\n",
        "def process_fn(fn):\n",
        "    match = re.compile(r'(?=[^ ])([\\W])([\\w])')\n",
        "    match2 = re.compile('(.|\\s)\\\\1\\\\1+')\n",
        "    with open(fn, 'r') as f:\n",
        "        lines = f.read()\n",
        "    if lines and lines[0] != ' ': lines = ' ' + lines\n",
        "    lines = match.sub(r'\\g<1> \\g<2>', lines)\n",
        "    lines = match2.sub(r'\\1'*3, lines)\n",
        "    with open(fn, 'w') as c:\n",
        "        c.write(lines)\n",
        "        \n",
        "thread_map(process_fn, txts)"
      ],
      "metadata": {
        "colab": {
          "base_uri": "https://localhost:8080/",
          "height": 228,
          "referenced_widgets": [
            "8f8ae21fea914275bdca3ac6742a137b",
            "6df5f6c8325f44dc847dc1c9c9c97b25",
            "69a3f3f5b8044dc6b89c2bfde315f2e1",
            "85c869c0a68b4032bd47d20ed5b0bc0b",
            "1f2c28b4d30345988452328d714bdb8e",
            "bde5c6cd503742bea97618fb217dcafb",
            "67080ce608654c7697d7a687f02a8168",
            "a72a323b2bc34da0b55a321d071ed845"
          ]
        },
        "id": "qFNn6Z8fAhnn",
        "outputId": "28abf012-d447-4fc5-af88-b36b631f4b1e"
      },
      "execution_count": null,
      "outputs": [
        {
          "output_type": "stream",
          "name": "stdout",
          "text": [
            "Found 1 txt(s)\n",
            "Running langdetect . . . \n"
          ]
        },
        {
          "output_type": "display_data",
          "data": {
            "text/plain": [
              "<IPython.core.display.HTML object>"
            ],
            "text/html": [
              "\n",
              "<style>\n",
              "    /* Turns off some styling */\n",
              "    progress {\n",
              "        /* gets rid of default border in Firefox and Opera. */\n",
              "        border: none;\n",
              "        /* Needs to be in here for Safari polyfill so background images work as expected. */\n",
              "        background-size: auto;\n",
              "    }\n",
              "    progress:not([value]), progress:not([value])::-webkit-progress-bar {\n",
              "        background: repeating-linear-gradient(45deg, #7e7e7e, #7e7e7e 10px, #5c5c5c 10px, #5c5c5c 20px);\n",
              "    }\n",
              "    .progress-bar-interrupted, .progress-bar-interrupted::-webkit-progress-bar {\n",
              "        background: #F44336;\n",
              "    }\n",
              "</style>\n"
            ]
          },
          "metadata": {}
        },
        {
          "output_type": "display_data",
          "data": {
            "text/plain": [
              "<IPython.core.display.HTML object>"
            ],
            "text/html": [
              "\n",
              "    <div>\n",
              "      <progress value='1' class='' max='1' style='width:300px; height:20px; vertical-align: middle;'></progress>\n",
              "      100.00% [1/1 00:00&lt;00:00]\n",
              "    </div>\n",
              "    "
            ]
          },
          "metadata": {}
        },
        {
          "output_type": "stream",
          "name": "stdout",
          "text": [
            "<_io.TextIOWrapper name='./tmp/txt/Brodskiy_Sochineniya-Iosifa-Brodskogo-Pushkinskiy-Fond-_1_Sochineniya-Iosifa-Brodskogo-Tom-IEKQ90w656307.txt' mode='r' encoding='UTF-8'>\n",
            "tmp/txt/Brodskiy_Sochineniya-Iosifa-Brodskogo-Pushkinskiy-Fond-_1_Sochineniya-Iosifa-Brodskogo-Tom-IEKQ90w656307.txt\n",
            "315204\n",
            "Running text sanitization . . . \n"
          ]
        },
        {
          "output_type": "display_data",
          "data": {
            "text/plain": [
              "HBox(children=(FloatProgress(value=0.0, max=1.0), HTML(value='')))"
            ],
            "application/vnd.jupyter.widget-view+json": {
              "version_major": 2,
              "version_minor": 0,
              "model_id": "8f8ae21fea914275bdca3ac6742a137b"
            }
          },
          "metadata": {}
        },
        {
          "output_type": "stream",
          "name": "stdout",
          "text": [
            "\n"
          ]
        },
        {
          "output_type": "execute_result",
          "data": {
            "text/plain": [
              "[None]"
            ]
          },
          "metadata": {},
          "execution_count": 76
        }
      ]
    },
    {
      "cell_type": "code",
      "metadata": {
        "id": "LQ612AmS2B5K",
        "colab": {
          "base_uri": "https://localhost:8080/"
        },
        "outputId": "ec4c9f32-0415-4e68-d923-67ec3aba51cb"
      },
      "source": [
        "# txts = get_files(data, '.txt'); \n",
        "# print(f'Amount of txt(s): {len(txts)}')"
      ],
      "execution_count": null,
      "outputs": [
        {
          "output_type": "stream",
          "name": "stdout",
          "text": [
            "Amount of txt(s): 87\n"
          ]
        }
      ]
    },
    {
      "cell_type": "code",
      "source": [
        "fsorted = get_files('../data/classic', '.txt') + sorted(txts, key=lambda fn: os.path.getsize(fn))\n",
        "\n",
        "print('Building text corpus')\n",
        "sz=0\n",
        "double_rate = 8\n",
        "with open('./tmp/brodsky_valid.txt', 'w') as c:\n",
        "    for iterator in range(double_rate):\n",
        "        for fn in fsorted:\n",
        "            with open(fn, 'r') as f:\n",
        "                # sz += c.write(f.read().replace('\\n', f' {NEW_LINE} ') + '\\n')\n",
        "                sz += c.write(f.read())\n",
        "                if sz > 5e+9:\n",
        "                    break\n",
        "print('Done ./tmp/brodsky_valid.txt')"
      ],
      "metadata": {
        "colab": {
          "base_uri": "https://localhost:8080/"
        },
        "id": "xmK-PHANSifY",
        "outputId": "e982ea97-ae91-4246-d783-57967c5c3cf1"
      },
      "execution_count": null,
      "outputs": [
        {
          "output_type": "stream",
          "name": "stdout",
          "text": [
            "Building text corpus\n",
            "Done ./tmp/brodsky_valid.txt\n"
          ]
        }
      ]
    }
  ]
}